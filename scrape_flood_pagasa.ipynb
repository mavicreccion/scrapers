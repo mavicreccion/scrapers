{
 "cells": [
  {
   "cell_type": "code",
   "execution_count": 44,
   "metadata": {
    "collapsed": true
   },
   "outputs": [],
   "source": [
    "from selenium import webdriver \n",
    "from selenium.webdriver.common.by import By \n",
    "from selenium.webdriver.support.ui import WebDriverWait \n",
    "from selenium.webdriver.support import expected_conditions as EC \n",
    "from selenium.common.exceptions import TimeoutException\n",
    "\n",
    "from lxml import html\n",
    "import requests\n",
    "import pandas as pd\n",
    "import datetime\n",
    "from datedelta import datedelta"
   ]
  },
  {
   "cell_type": "code",
   "execution_count": 46,
   "metadata": {
    "collapsed": true
   },
   "outputs": [],
   "source": [
    "def text(elt):\n",
    "    return elt.text_content().replace(u'\\xa0', u' ')"
   ]
  },
  {
   "cell_type": "code",
   "execution_count": 53,
   "metadata": {
    "collapsed": true
   },
   "outputs": [],
   "source": [
    "def getData(root):\n",
    "    # retrieve table\n",
    "    table = root.xpath('//*[@id=\"RightContentsBody\"]')[0]\n",
    "    \n",
    "    # data\n",
    "    data = [[text(li) for li in ul.xpath('li')]  \n",
    "               for ul in table.xpath('//*[@id=\"RightContentsBody\"]/ul')]\n",
    "    \n",
    "    return data"
   ]
  },
  {
   "cell_type": "code",
   "execution_count": 59,
   "metadata": {},
   "outputs": [
    {
     "data": {
      "text/plain": [
       "[]"
      ]
     },
     "execution_count": 59,
     "metadata": {},
     "output_type": "execute_result"
    }
   ],
   "source": [
    "URL = 'http://121.58.193.173/html/wl/wl_table.html#'\n",
    "\n",
    "browser = webdriver.Chrome(executable_path='C:/drivers/chromedriver')\n",
    "browser.get(URL)\n",
    "\n",
    "page = requests.get(URL)\n",
    "root = html.fromstring(page.content)\n",
    "\n",
    "# Wait 20 seconds for page to load\n",
    "timeout = 10\n",
    "try:\n",
    "    WebDriverWait(browser, timeout).until(EC.visibility_of_element_located((By.XPATH, \"//img[@src='/html/images/logo.jpg']\")))\n",
    "except TimeoutException:\n",
    "    print('Timed out waiting for page to load')\n",
    "    browser.quit()\n",
    "\n",
    "    \n",
    "script_change_time = \"$('#dateTimePickerMinute').val('2015/01/01 01:00')\"\n",
    "\n",
    "# go to january 1, 2015\n",
    "browser.execute_script(script_change_time)\n",
    "\n",
    "# search\n",
    "browser.find_elements_by_xpath('//*[@id=\"searchNow\"]/img')[0].click()\n",
    "    \n",
    "# click fort santiago\n",
    "browser.find_elements_by_xpath('//*[@id=\"CenterContentsBody\"]/ul[11]/li[1]/a/font')[0].click()\n",
    "\n",
    "\n",
    "############# scraping ############\n",
    "header = ['Time', 'WL [El.m]', 'Change [+/-]']\n",
    "\n",
    "data = root.xpath('//*[@id=\"RightContentsBody\"]/ul')\n",
    "data"
   ]
  },
  {
   "cell_type": "code",
   "execution_count": null,
   "metadata": {
    "collapsed": true
   },
   "outputs": [],
   "source": []
  }
 ],
 "metadata": {
  "kernelspec": {
   "display_name": "Python 3",
   "language": "python",
   "name": "python3"
  },
  "language_info": {
   "codemirror_mode": {
    "name": "ipython",
    "version": 3
   },
   "file_extension": ".py",
   "mimetype": "text/x-python",
   "name": "python",
   "nbconvert_exporter": "python",
   "pygments_lexer": "ipython3",
   "version": "3.6.3"
  }
 },
 "nbformat": 4,
 "nbformat_minor": 2
}
