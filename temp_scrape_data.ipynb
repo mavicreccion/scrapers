{
 "cells": [
  {
   "cell_type": "code",
   "execution_count": 1,
   "metadata": {},
   "outputs": [
    {
     "name": "stdout",
     "output_type": "stream",
     "text": [
      "        Pris                               Adresse       Tidspunkt\n",
      "0     8.25 *         Søndergade 116 8620 Kjellerup  13 min 34 sek \n",
      "1     8.29 *             Nørregade 46 9490 Pandrup  13 min 34 sek \n",
      "2     8.29 *   Hoptrup Hovedgade 53 6100 Haderslev  13 min 34 sek \n",
      "3     8.29 *             Hjertingvej 17 6800 Varde  13 min 34 sek \n",
      "4     8.29 *          Sandfeldparken 16 6933 Kibæk  13 min 34 sek \n",
      "5     8.29 *               Hostrupvej 6 9500 Hobro  13 min 34 sek \n",
      "6     8.29 *             Agtrupvej 61 6000 Kolding  13 min 34 sek \n",
      "7     8.29 *             Enghavevej 6 6630 Rødding  13 min 34 sek \n",
      "8     8.29 *                Østergade 26 9370 Hals  13 min 34 sek \n",
      "9     8.29 *          Tørholmsvej 95 9800 Hjørring  13 min 34 sek \n"
     ]
    }
   ],
   "source": [
    "import lxml.html as LH\n",
    "import requests\n",
    "import pandas as pd\n",
    "def text(elt):\n",
    "    return elt.text_content().replace(u'\\xa0', u' ')\n",
    "\n",
    "url = 'http://www.fdmbenzinpriser.dk/searchprices/5/'\n",
    "r = requests.get(url)\n",
    "root = LH.fromstring(r.content)\n",
    "\n",
    "for table in root.xpath('//table[@id=\"sortabletable\"]'):\n",
    "    header = [text(th) for th in table.xpath('//th')]        # 1\n",
    "    data = [[text(td) for td in tr.xpath('td')]  \n",
    "            for tr in table.xpath('//tr')]                   # 2\n",
    "    data = [row for row in data if len(row)==len(header)]    # 3 \n",
    "    data = pd.DataFrame(data, columns=header)                # 4\n",
    "    print(data)"
   ]
  },
  {
   "cell_type": "code",
   "execution_count": null,
   "metadata": {
    "collapsed": true
   },
   "outputs": [],
   "source": []
  }
 ],
 "metadata": {
  "kernelspec": {
   "display_name": "Python 3",
   "language": "python",
   "name": "python3"
  },
  "language_info": {
   "codemirror_mode": {
    "name": "ipython",
    "version": 3
   },
   "file_extension": ".py",
   "mimetype": "text/x-python",
   "name": "python",
   "nbconvert_exporter": "python",
   "pygments_lexer": "ipython3",
   "version": "3.6.3"
  }
 },
 "nbformat": 4,
 "nbformat_minor": 2
}
