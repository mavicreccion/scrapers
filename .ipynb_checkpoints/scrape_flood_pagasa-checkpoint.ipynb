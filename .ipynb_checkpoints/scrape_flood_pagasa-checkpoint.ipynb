{
 "cells": [
  {
   "cell_type": "code",
   "execution_count": 1,
   "metadata": {
    "collapsed": true
   },
   "outputs": [],
   "source": [
    "from selenium import webdriver \n",
    "from selenium.webdriver.common.by import By \n",
    "from selenium.webdriver.support.ui import WebDriverWait \n",
    "from selenium.webdriver.support import expected_conditions as EC \n",
    "from selenium.common.exceptions import TimeoutException\n",
    "from selenium.common.exceptions import StaleElementReferenceException\n",
    "\n",
    "import pandas as pd\n",
    "import datetime\n",
    "from datedelta import datedelta\n",
    "import time"
   ]
  },
  {
   "cell_type": "code",
   "execution_count": 2,
   "metadata": {
    "collapsed": true
   },
   "outputs": [],
   "source": [
    "def addMonths(date, numMonths):\n",
    "    return date + datedelta(months=numMonths)"
   ]
  },
  {
   "cell_type": "code",
   "execution_count": 15,
   "metadata": {
    "collapsed": true
   },
   "outputs": [],
   "source": [
    "def addDays(date, numDays):\n",
    "    return date + datedelta(days=numDays)"
   ]
  },
  {
   "cell_type": "code",
   "execution_count": 16,
   "metadata": {
    "collapsed": true
   },
   "outputs": [],
   "source": [
    "def goToDate(browser, datetime_object):\n",
    "    # prepare date and time\n",
    "    script_change_time = \"$('#dateTimePickerMinute').val('\" + str(datetime_object.year) + \"/\" + str(datetime_object.month) + \"/\" + str(datetime_object.day) + \" 00:00')\"\n",
    "\n",
    "    # go to date and time\n",
    "    browser.execute_script(script_change_time)\n",
    "\n",
    "    # search\n",
    "    browser.find_elements_by_xpath('//*[@id=\"searchNow\"]/img')[0].click()"
   ]
  },
  {
   "cell_type": "code",
   "execution_count": 17,
   "metadata": {
    "collapsed": true
   },
   "outputs": [],
   "source": [
    "def getData(browser, datetime_object):\n",
    "    # initiate header and data\n",
    "    header = ['Time', 'WL [El.m]', 'Change [+/-]']\n",
    "    data = []\n",
    "\n",
    "    # get data\n",
    "    table = browser.find_element_by_id(\"RightContentsBody\")\n",
    "    rows = table.find_elements_by_tag_name(\"ul\")\n",
    "    \n",
    "    isInterrupted = False\n",
    "    \n",
    "    try:\n",
    "        for row in rows:\n",
    "            cells = row.find_elements_by_tag_name(\"li\")\n",
    "            cellContents = []\n",
    "            for cell in cells:\n",
    "                cellContents.append(cell.text)\n",
    "\n",
    "            data.append(cellContents)\n",
    "    except StaleElementReferenceException:\n",
    "        isInterrupted = True\n",
    "        \n",
    "    # if interrupted, start all over again\n",
    "    if(isInterrupted):\n",
    "        goToDate(browser, datetime_object)\n",
    "        \n",
    "        data = []\n",
    "\n",
    "        # get data\n",
    "        table = browser.find_element_by_id(\"RightContentsBody\")\n",
    "        rows = table.find_elements_by_tag_name(\"ul\")\n",
    "        \n",
    "        for row in rows:\n",
    "            cells = row.find_elements_by_tag_name(\"li\")\n",
    "            cellContents = []\n",
    "            for cell in cells:\n",
    "                cellContents.append(cell.text)\n",
    "            data.append(cellContents)\n",
    "\n",
    "    # make dataframe\n",
    "    data = pd.DataFrame(data, columns=header) \n",
    "    \n",
    "    return data    "
   ]
  },
  {
   "cell_type": "code",
   "execution_count": 18,
   "metadata": {
    "collapsed": true
   },
   "outputs": [],
   "source": [
    "URL = 'http://121.58.193.173/html/wl/wl_table.html#'\n",
    "options = webdriver.ChromeOptions()\n",
    "options.add_argument(\"--start-maximized\")\n",
    "options.add_argument(\"--incognito\")\n",
    "\n",
    "browser = webdriver.Chrome(executable_path='C:/drivers/chromedriver', options=options)\n",
    "browser.get(URL)\n",
    "\n",
    "# Wait 10 seconds for page to load\n",
    "timeout = 10\n",
    "try:\n",
    "    WebDriverWait(browser, timeout).until(EC.visibility_of_element_located((By.XPATH, \"//img[@src='/html/images/logo.jpg']\")))\n",
    "except TimeoutException:\n",
    "    print('Timed out waiting for page to load')\n",
    "    browser.quit()\n",
    "\n",
    "# click fort santiago\n",
    "browser.find_elements_by_xpath('//*[@id=\"CenterContentsBody\"]/ul[11]/li[1]/a/font')[0].click()    \n",
    "\n",
    "data_list = []\n",
    "\n",
    "datetime_object = datetime.datetime.strptime('2016/09/02 00:00', '%Y/%m/%d %H:%M')\n",
    "endtime_object = datetime.datetime.strptime('2018/01/02 00:00', '%Y/%m/%d %H:%M')\n",
    "\n",
    "first_day_of_next_month = addMonths(datetime_object, 1)\n",
    "current_year = datetime_object.year\n",
    "\n",
    "while(datetime_object < endtime_object):\n",
    "\n",
    "    # go to date\n",
    "    goToDate(browser, datetime_object)\n",
    "\n",
    "    # get data from html\n",
    "    data = getData(browser, datetime_object)\n",
    "\n",
    "    # remove excess row\n",
    "    data = data.drop(data.index[0])\n",
    "\n",
    "    # reverse data frame order\n",
    "    data = data.iloc[::-1]\n",
    "\n",
    "    # add to list of df\n",
    "    data_list.append(data)\n",
    "    \n",
    "    # change date\n",
    "    datetime_object = addDays(datetime_object, 1)\n",
    "    \n",
    "    # save to csv every month\n",
    "    if(datetime_object == first_day_of_next_month):\n",
    "        main_data = pd.concat(data_list, ignore_index=True)\n",
    "        \n",
    "        if(current_year == datetime_object.year):\n",
    "            main_data.to_csv('flood_' + str(datetime_object.year) + '-' + str(datetime_object.month - 1) + '.csv')\n",
    "        else:\n",
    "            temp_date = addMonths(datetime_object, -1)\n",
    "            main_data.to_csv('flood_' + str(temp_date.year) + '-' + str(temp_date.month) + '.csv')\n",
    "        data_list = []\n",
    "        first_day_of_next_month = addMonths(datetime_object, 1)\n",
    "    \n",
    "    # wait for 3 seconds\n",
    "    time.sleep(3)\n"
   ]
  },
  {
   "cell_type": "code",
   "execution_count": 4,
   "metadata": {},
   "outputs": [],
   "source": [
    "# merge everything\n",
    "\n",
    "datasets = []\n",
    "startdate = datetime.datetime.strptime('2015/01/01 00:00', '%Y/%m/%d %H:%M')\n",
    "\n",
    "for i in range(0,36):\n",
    "    dataset = pd.read_csv('flood_' + str(startdate.year) + '-' + str(startdate.month) + '.csv')\n",
    "    datasets.append(dataset)\n",
    "    startdate = addMonths(startdate, 1)\n",
    "    \n",
    "main_dataset = pd.concat(datasets, ignore_index=True)\n",
    "main_dataset.to_csv('flood_pagasa_2015_2016_2017.csv')"
   ]
  },
  {
   "cell_type": "code",
   "execution_count": null,
   "metadata": {
    "collapsed": true
   },
   "outputs": [],
   "source": []
  }
 ],
 "metadata": {
  "kernelspec": {
   "display_name": "Python 3",
   "language": "python",
   "name": "python3"
  },
  "language_info": {
   "codemirror_mode": {
    "name": "ipython",
    "version": 3
   },
   "file_extension": ".py",
   "mimetype": "text/x-python",
   "name": "python",
   "nbconvert_exporter": "python",
   "pygments_lexer": "ipython3",
   "version": "3.6.3"
  }
 },
 "nbformat": 4,
 "nbformat_minor": 2
}
